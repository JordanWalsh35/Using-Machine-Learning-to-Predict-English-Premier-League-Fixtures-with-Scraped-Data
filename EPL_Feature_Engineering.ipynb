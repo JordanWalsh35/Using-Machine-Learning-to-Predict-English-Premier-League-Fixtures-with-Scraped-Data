{
 "cells": [
  {
   "cell_type": "markdown",
   "metadata": {},
   "source": [
    "Importing the Data"
   ]
  },
  {
   "cell_type": "code",
   "execution_count": 2,
   "metadata": {},
   "outputs": [],
   "source": [
    "# Import Pandas and Datasets\n",
    "\n",
    "import pandas as pd\n",
    "cols = list(pd.read_csv(\"2019-2020.csv\", nrows =1))\n",
    "df18_19 = pd.read_csv('2018-2019.csv', usecols = [i for i in range(1, len(cols))])\n",
    "df19_20 = pd.read_csv('2019-2020.csv', usecols = [i for i in range(1, len(cols))])\n",
    "df20_21 = pd.read_csv('2020-2021.csv', usecols = [i for i in range(1, len(cols))])\n",
    "df21_22 = pd.read_csv('2021-2022.csv', usecols = [i for i in range(1, len(cols))])\n",
    "df22_23 = pd.read_csv('2022-2023.csv', usecols = [i for i in range(1, len(cols))])\n",
    "dfx = [df18_19, df19_20, df20_21, df21_22, df22_23]"
   ]
  },
  {
   "cell_type": "markdown",
   "metadata": {},
   "source": [
    "Handling Missing Values"
   ]
  },
  {
   "cell_type": "code",
   "execution_count": 3,
   "metadata": {},
   "outputs": [
    {
     "name": "stdout",
     "output_type": "stream",
     "text": [
      "df18_19 SoT%\n",
      "df18_19 G/SoT\n",
      "df18_19 Avg. Distance of Shots\n",
      "df18_19 Save%\n",
      "df19_20 G/SoT\n",
      "df19_20 Save%\n",
      "df20_21 SoT%\n",
      "df20_21 G/SoT\n",
      "df20_21 Avg. Distance of Shots\n",
      "df20_21 Save%\n",
      "df21_22 G/SoT\n",
      "df21_22 Save%\n",
      "df22_23 G/SoT\n",
      "df22_23 Save%\n"
     ]
    }
   ],
   "source": [
    "# Create Function to Get Variable Names\n",
    "def get_name(df_):\n",
    "    name = [x for x in globals() if globals()[x] is df_][0]\n",
    "    return name\n",
    "    \n",
    "# Check Datasets for Missing Values\n",
    "for df in dfx:\n",
    "    for col in df.columns:\n",
    "        if df[col].isnull().values.any():\n",
    "            print(get_name(df), col)"
   ]
  },
  {
   "cell_type": "code",
   "execution_count": 4,
   "metadata": {},
   "outputs": [],
   "source": [
    "# Impute Missing Values\n",
    "for df in dfx:\n",
    "    for i in range(0, len(df)):\n",
    "        if pd.isnull(df[\"G/SoT\"][i]):\n",
    "            if df[\"SoT%\"][i] == 0:\n",
    "                df[\"G/SoT\"].iat[i] = 0\n",
    "            else:\n",
    "                df[\"G/SoT\"].iat[i] = df[\"GF\"][i]/(df[\"Shots\"][i] * df[\"SoT%\"][i])\n",
    "        if pd.isnull(df[\"Save%\"][i]):\n",
    "            if df[\"SoT Against\"][i] == 0:\n",
    "                df[\"Save%\"].iat[i] = 0\n",
    "        if df[\"Save%\"][i] < 0:\n",
    "            df[\"Save%\"].iat[i] = 0\n",
    "        if df[\"Shots\"][i] == 0:\n",
    "            df[\"SoT%\"].iat[i] = 0\n",
    "            df[\"G/SoT\"].iat[i] = 0\n",
    "            df[\"Avg. Distance of Shots\"].iat[i] = 0\n",
    "\n",
    "# Check Again For NaN After Imputation\n",
    "for df in dfx:\n",
    "    for col in df.columns:\n",
    "        if df[col].isnull().values.any():\n",
    "            print(get_name(df), col)"
   ]
  },
  {
   "cell_type": "markdown",
   "metadata": {},
   "source": [
    "Replacing Inconsistent Names"
   ]
  },
  {
   "cell_type": "code",
   "execution_count": 5,
   "metadata": {},
   "outputs": [],
   "source": [
    "# Create Dictionary for Inconsistent Names\n",
    "name_dict = {'Brighton':'Brighton and Hove Albion', 'Manchester Utd':'Manchester United', 'Newcastle Utd':'Newcastle United', 'Sheffield Utd':'Sheffield United', \n",
    "            \"Nott'ham Forest\":'Nottingham Forest', 'Tottenham':'Tottenham Hotspur', 'West Brom':'West Bromwich Albion', 'West Ham':'West Ham United', 'Wolves':'Wolverhampton Wanderers'}\n",
    "\n",
    "# Replace Inconsistent Names in 'Opponent' & Add New Columns\n",
    "for df in dfx:\n",
    "    teams = list(dict.fromkeys(df[\"Team\"]))\n",
    "    exps = list(dict.fromkeys(df[\"Transfers - Home\"]))\n",
    "    df.insert(loc = 13, column = \"Transfers - Away\", value = ' ')\n",
    "    season = get_name(df).replace('df', '')\n",
    "    df[\"Season\"] = season\n",
    "    for i in range(0, len(df)):\n",
    "        for key, value in name_dict.items():\n",
    "            if df[\"Opponent\"][i] == key:\n",
    "                df[\"Opponent\"].iat[i] = value\n",
    "        for j in range(0, len(teams)):\n",
    "            if df[\"Opponent\"][i] == teams[j]:\n",
    "                df[\"Transfers - Away\"].iat[i] = exps[j]"
   ]
  },
  {
   "cell_type": "markdown",
   "metadata": {},
   "source": [
    "Creating Moving Averages for Features"
   ]
  },
  {
   "cell_type": "code",
   "execution_count": 6,
   "metadata": {},
   "outputs": [],
   "source": [
    "# Define a Function That Calculates a Moving Average of Three Previous Games & Creates New Columns\n",
    "def moving_average(team_grouped, cols, new_cols):\n",
    "    mov_avg = team_grouped[cols].rolling(3, closed = \"left\").mean()\n",
    "    team_grouped[new_cols] = mov_avg\n",
    "    team_grouped = team_grouped.dropna(subset = new_cols)\n",
    "    return team_grouped"
   ]
  },
  {
   "cell_type": "code",
   "execution_count": 7,
   "metadata": {},
   "outputs": [],
   "source": [
    "# Define the Input Columns\n",
    "cols = df.columns[14:38]\n",
    "cols = cols.append(df.columns[[6, 7, 10]])\n",
    "new_cols = [f\"{c} - Home\" for c in cols]\n",
    "\n",
    "# Group the Dataset by Team and Apply the MA Function\n",
    "df_list = []\n",
    "for df in dfx:\n",
    "    df = df.groupby(\"Team\").apply(lambda x: moving_average(x, cols, new_cols))\n",
    "    df = df.droplevel(\"Team\")\n",
    "    df.index = range(df.shape[0])\n",
    "    df[\"Match Number\"] = range(1, len(df) + 1)\n",
    "    df_list.append(df)"
   ]
  },
  {
   "cell_type": "markdown",
   "metadata": {},
   "source": [
    "Adding Columns for Away Team"
   ]
  },
  {
   "cell_type": "code",
   "execution_count": 8,
   "metadata": {},
   "outputs": [],
   "source": [
    "# Define Away Cols\n",
    "away_cols = [col.replace('Home','Away') for col in new_cols]\n",
    "away_cols.append('Match Number')\n",
    "\n",
    "# Add Columns for Away Team\n",
    "final_dfs = []\n",
    "for df in df_list:\n",
    "    away = []\n",
    "    for i in range(0, len(df)):\n",
    "        opp = df['Opponent'][i]\n",
    "        mdate = df['Date'][i]\n",
    "        team_df = df[df['Team'] == opp]\n",
    "        nrow = team_df[team_df['Date'] == mdate][new_cols]\n",
    "        nrow.insert(loc = 27, column = 'Match Number', value = i + 1)\n",
    "        away.append(nrow)\n",
    "    combine = pd.concat(away)\n",
    "    combine.columns = away_cols\n",
    "    combine.index = range(combine.shape[0])\n",
    "    df = df.merge(combine, on = 'Match Number')\n",
    "    final_dfs.append(df)"
   ]
  },
  {
   "cell_type": "markdown",
   "metadata": {},
   "source": [
    "Merge Datasets & Encode Categorical Variables"
   ]
  },
  {
   "cell_type": "code",
   "execution_count": 9,
   "metadata": {},
   "outputs": [],
   "source": [
    "# Merge Datasets\n",
    "dfT = pd.concat(final_dfs)\n",
    "\n",
    "# Filter 'Away' to Remove Duplicate Match\n",
    "dfT = dfT[dfT['Venue'] == 'Home']\n",
    "\n",
    "# Convert Categorical Data to Numerical & Fix Opponent Names\n",
    "dfT[\"Date\"] = pd.to_datetime(dfT[\"Date\"], dayfirst = True)\n",
    "dfT[\"Home Team\"] = dfT[\"Team\"].astype(\"category\").cat.codes\n",
    "dfT[\"Away Team\"] = dfT[\"Opponent\"].astype(\"category\").cat.codes\n",
    "dfT[\"Hour\"] = dfT[\"Time\"].str.replace(\":.+\", \"\", regex = True).astype(\"int\")\n",
    "dfT[\"Day of Week\"] = dfT[\"Date\"].dt.dayofweek\n",
    "dfT[\"Month\"] = dfT[\"Date\"].dt.month\n",
    "dfT[\"Output\"] = (dfT[\"Result\"] == 'W').astype(\"int\")"
   ]
  },
  {
   "cell_type": "code",
   "execution_count": 10,
   "metadata": {},
   "outputs": [],
   "source": [
    "# Drop Unwanted Features and Save to Excel\n",
    "features = dfT.copy()\n",
    "remove_cols = cols.append(dfT.columns[1:6]).append(dfT.columns[[11, 66]])\n",
    "features = features.drop(columns = remove_cols)\n",
    "features = features.sort_values(\"Date\")\n",
    "features.to_csv('Features.csv')"
   ]
  }
 ],
 "metadata": {
  "kernelspec": {
   "display_name": "Python 3.10.4 64-bit",
   "language": "python",
   "name": "python3"
  },
  "language_info": {
   "codemirror_mode": {
    "name": "ipython",
    "version": 3
   },
   "file_extension": ".py",
   "mimetype": "text/x-python",
   "name": "python",
   "nbconvert_exporter": "python",
   "pygments_lexer": "ipython3",
   "version": "3.10.4"
  },
  "orig_nbformat": 4,
  "vscode": {
   "interpreter": {
    "hash": "52192ef22709f95f89610121f4a1d8588d161d31b8ddbff6c146c7538d5f4a3a"
   }
  }
 },
 "nbformat": 4,
 "nbformat_minor": 2
}
